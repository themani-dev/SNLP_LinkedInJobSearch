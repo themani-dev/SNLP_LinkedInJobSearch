{
 "cells": [
  {
   "cell_type": "code",
   "execution_count": 3,
   "id": "initial_id",
   "metadata": {
    "collapsed": true,
    "ExecuteTime": {
     "end_time": "2024-05-05T09:19:25.561385Z",
     "start_time": "2024-05-05T09:19:24.006939Z"
    }
   },
   "outputs": [],
   "source": [
    "import datasets\n",
    "from datasets import load_dataset\n",
    "import pandas as pd\n",
    "from scipy.spatial.distance import cosine\n",
    "import numpy as np # linear algebra\n",
    "import pandas as pd \n",
    "import os"
   ]
  },
  {
   "cell_type": "code",
   "execution_count": 4,
   "outputs": [
    {
     "name": "stdout",
     "output_type": "stream",
     "text": [
      "./data/FinalProject/.DS_Store\n",
      "./data/FinalProject/job_postings.csv\n",
      "./data/FinalProject/maps/skills.csv\n",
      "./data/FinalProject/maps/industries.csv\n",
      "./data/FinalProject/company_details/company_industries.csv\n",
      "./data/FinalProject/company_details/company_specialities.csv\n",
      "./data/FinalProject/company_details/companies.csv\n",
      "./data/FinalProject/company_details/employee_counts.csv\n",
      "./data/FinalProject/job_details/benefits.csv\n",
      "./data/FinalProject/job_details/salaries.csv\n",
      "./data/FinalProject/job_details/job_industries.csv\n",
      "./data/FinalProject/job_details/job_skills.csv\n"
     ]
    }
   ],
   "source": [
    "for dirname, _, filenames in os.walk('./data/FinalProject/'):\n",
    "    for filename in filenames:\n",
    "        print(os.path.join(dirname, filename))"
   ],
   "metadata": {
    "collapsed": false,
    "ExecuteTime": {
     "end_time": "2024-05-05T09:19:26.388815Z",
     "start_time": "2024-05-05T09:19:26.369177Z"
    }
   },
   "id": "8255dcb51dfd635a"
  },
  {
   "cell_type": "code",
   "execution_count": 5,
   "outputs": [
    {
     "data": {
      "text/plain": "'2.14.6'"
     },
     "execution_count": 5,
     "metadata": {},
     "output_type": "execute_result"
    }
   ],
   "source": [
    "datasets.__version__"
   ],
   "metadata": {
    "collapsed": false,
    "ExecuteTime": {
     "end_time": "2024-05-05T09:19:27.832698Z",
     "start_time": "2024-05-05T09:19:27.821240Z"
    }
   },
   "id": "25cd5168f4644a7e"
  },
  {
   "cell_type": "code",
   "execution_count": 6,
   "outputs": [],
   "source": [
    "dataset_job_listing = load_dataset(\"csv\", data_files=\"./data/FinalProject/job_postings.csv\")\n",
    "dataset_job_skills = load_dataset(\"csv\", data_files=\"./data/FinalProject/job_details/job_skills.csv\")\n",
    "dataset_job_benefits = load_dataset(\"csv\", data_files=\"./data/FinalProject/job_details/benefits.csv\")"
   ],
   "metadata": {
    "collapsed": false,
    "ExecuteTime": {
     "end_time": "2024-05-05T09:19:30.182486Z",
     "start_time": "2024-05-05T09:19:28.934677Z"
    }
   },
   "id": "ef5bb74c3dbae4e3"
  },
  {
   "cell_type": "code",
   "execution_count": 7,
   "outputs": [
    {
     "data": {
      "text/plain": "DatasetDict({\n    train: Dataset({\n        features: ['job_id', 'company_id', 'title', 'description', 'max_salary', 'med_salary', 'min_salary', 'pay_period', 'formatted_work_type', 'location', 'applies', 'original_listed_time', 'remote_allowed', 'views', 'job_posting_url', 'application_url', 'application_type', 'expiry', 'closed_time', 'formatted_experience_level', 'skills_desc', 'listed_time', 'posting_domain', 'sponsored', 'work_type', 'currency', 'compensation_type', 'scraped'],\n        num_rows: 33246\n    })\n})"
     },
     "execution_count": 7,
     "metadata": {},
     "output_type": "execute_result"
    }
   ],
   "source": [
    "dataset_job_listing"
   ],
   "metadata": {
    "collapsed": false,
    "ExecuteTime": {
     "end_time": "2024-05-05T09:19:31.410575Z",
     "start_time": "2024-05-05T09:19:31.392774Z"
    }
   },
   "id": "d2b4c25fb6116d57"
  },
  {
   "cell_type": "code",
   "execution_count": 8,
   "outputs": [
    {
     "data": {
      "text/plain": "       job_id  company_id                                              title  \\\n0  3757940104    553718.0                              Hearing Care Provider   \n1  3757940025   2192142.0  Shipping & Receiving Associate 2nd shift (Beav...   \n2  3757938019    474443.0                               Manager, Engineering   \n3  3757938018  18213359.0                                               Cook   \n4  3757937095    437225.0        Principal Cloud Security Architect (Remote)   \n\n                                         description  max_salary  med_salary  \\\n0  Overview\\n\\nHearingLife is a national hearing ...         NaN     5250.00   \n1  Metalcraft of Mayville\\nMetalcraft of Mayville...         NaN         NaN   \n2  \\nThe TSUBAKI name is synonymous with excellen...         NaN         NaN   \n3  descriptionTitle\\n\\n Looking for a great oppor...         NaN       22.27   \n4  Job Summary\\nAt iHerb, we are on a mission to ...    275834.0         NaN   \n\n   min_salary pay_period formatted_work_type          location  ...  \\\n0         NaN    MONTHLY           Full-time  Little River, SC  ...   \n1         NaN       None           Full-time    Beaver Dam, WI  ...   \n2         NaN       None           Full-time      Bessemer, AL  ...   \n3         NaN     HOURLY           Full-time   Aliso Viejo, CA  ...   \n4    205956.0     YEARLY           Full-time     United States  ...   \n\n   closed_time  formatted_experience_level  \\\n0          NaN                 Entry level   \n1          NaN                        None   \n2          NaN                        None   \n3          NaN                 Entry level   \n4          NaN            Mid-Senior level   \n\n                                         skills_desc   listed_time  \\\n0                                               None  1.699090e+12   \n1                                               None  1.699080e+12   \n2  Bachelor's Degree in Mechanical Engineering pr...  1.699080e+12   \n3                                               None  1.699080e+12   \n4                                               None  1.699090e+12   \n\n             posting_domain sponsored  work_type  currency  compensation_type  \\\n0  careers-demant.icims.com         0  FULL_TIME       USD        BASE_SALARY   \n1       www.click2apply.net         0  FULL_TIME      None               None   \n2       www.click2apply.net         0  FULL_TIME      None               None   \n3           jobs.apploi.com         0  FULL_TIME       USD        BASE_SALARY   \n4         careers.iherb.com         0  FULL_TIME       USD        BASE_SALARY   \n\n      scraped  \n0  1699138101  \n1  1699085420  \n2  1699085644  \n3  1699087461  \n4  1699085346  \n\n[5 rows x 28 columns]",
      "text/html": "<div>\n<style scoped>\n    .dataframe tbody tr th:only-of-type {\n        vertical-align: middle;\n    }\n\n    .dataframe tbody tr th {\n        vertical-align: top;\n    }\n\n    .dataframe thead th {\n        text-align: right;\n    }\n</style>\n<table border=\"1\" class=\"dataframe\">\n  <thead>\n    <tr style=\"text-align: right;\">\n      <th></th>\n      <th>job_id</th>\n      <th>company_id</th>\n      <th>title</th>\n      <th>description</th>\n      <th>max_salary</th>\n      <th>med_salary</th>\n      <th>min_salary</th>\n      <th>pay_period</th>\n      <th>formatted_work_type</th>\n      <th>location</th>\n      <th>...</th>\n      <th>closed_time</th>\n      <th>formatted_experience_level</th>\n      <th>skills_desc</th>\n      <th>listed_time</th>\n      <th>posting_domain</th>\n      <th>sponsored</th>\n      <th>work_type</th>\n      <th>currency</th>\n      <th>compensation_type</th>\n      <th>scraped</th>\n    </tr>\n  </thead>\n  <tbody>\n    <tr>\n      <th>0</th>\n      <td>3757940104</td>\n      <td>553718.0</td>\n      <td>Hearing Care Provider</td>\n      <td>Overview\\n\\nHearingLife is a national hearing ...</td>\n      <td>NaN</td>\n      <td>5250.00</td>\n      <td>NaN</td>\n      <td>MONTHLY</td>\n      <td>Full-time</td>\n      <td>Little River, SC</td>\n      <td>...</td>\n      <td>NaN</td>\n      <td>Entry level</td>\n      <td>None</td>\n      <td>1.699090e+12</td>\n      <td>careers-demant.icims.com</td>\n      <td>0</td>\n      <td>FULL_TIME</td>\n      <td>USD</td>\n      <td>BASE_SALARY</td>\n      <td>1699138101</td>\n    </tr>\n    <tr>\n      <th>1</th>\n      <td>3757940025</td>\n      <td>2192142.0</td>\n      <td>Shipping &amp; Receiving Associate 2nd shift (Beav...</td>\n      <td>Metalcraft of Mayville\\nMetalcraft of Mayville...</td>\n      <td>NaN</td>\n      <td>NaN</td>\n      <td>NaN</td>\n      <td>None</td>\n      <td>Full-time</td>\n      <td>Beaver Dam, WI</td>\n      <td>...</td>\n      <td>NaN</td>\n      <td>None</td>\n      <td>None</td>\n      <td>1.699080e+12</td>\n      <td>www.click2apply.net</td>\n      <td>0</td>\n      <td>FULL_TIME</td>\n      <td>None</td>\n      <td>None</td>\n      <td>1699085420</td>\n    </tr>\n    <tr>\n      <th>2</th>\n      <td>3757938019</td>\n      <td>474443.0</td>\n      <td>Manager, Engineering</td>\n      <td>\\nThe TSUBAKI name is synonymous with excellen...</td>\n      <td>NaN</td>\n      <td>NaN</td>\n      <td>NaN</td>\n      <td>None</td>\n      <td>Full-time</td>\n      <td>Bessemer, AL</td>\n      <td>...</td>\n      <td>NaN</td>\n      <td>None</td>\n      <td>Bachelor's Degree in Mechanical Engineering pr...</td>\n      <td>1.699080e+12</td>\n      <td>www.click2apply.net</td>\n      <td>0</td>\n      <td>FULL_TIME</td>\n      <td>None</td>\n      <td>None</td>\n      <td>1699085644</td>\n    </tr>\n    <tr>\n      <th>3</th>\n      <td>3757938018</td>\n      <td>18213359.0</td>\n      <td>Cook</td>\n      <td>descriptionTitle\\n\\n Looking for a great oppor...</td>\n      <td>NaN</td>\n      <td>22.27</td>\n      <td>NaN</td>\n      <td>HOURLY</td>\n      <td>Full-time</td>\n      <td>Aliso Viejo, CA</td>\n      <td>...</td>\n      <td>NaN</td>\n      <td>Entry level</td>\n      <td>None</td>\n      <td>1.699080e+12</td>\n      <td>jobs.apploi.com</td>\n      <td>0</td>\n      <td>FULL_TIME</td>\n      <td>USD</td>\n      <td>BASE_SALARY</td>\n      <td>1699087461</td>\n    </tr>\n    <tr>\n      <th>4</th>\n      <td>3757937095</td>\n      <td>437225.0</td>\n      <td>Principal Cloud Security Architect (Remote)</td>\n      <td>Job Summary\\nAt iHerb, we are on a mission to ...</td>\n      <td>275834.0</td>\n      <td>NaN</td>\n      <td>205956.0</td>\n      <td>YEARLY</td>\n      <td>Full-time</td>\n      <td>United States</td>\n      <td>...</td>\n      <td>NaN</td>\n      <td>Mid-Senior level</td>\n      <td>None</td>\n      <td>1.699090e+12</td>\n      <td>careers.iherb.com</td>\n      <td>0</td>\n      <td>FULL_TIME</td>\n      <td>USD</td>\n      <td>BASE_SALARY</td>\n      <td>1699085346</td>\n    </tr>\n  </tbody>\n</table>\n<p>5 rows × 28 columns</p>\n</div>"
     },
     "execution_count": 8,
     "metadata": {},
     "output_type": "execute_result"
    }
   ],
   "source": [
    "# data preview\n",
    "dataset_job_listing.set_format(\"pandas\")\n",
    "dataset_job_listing[\"train\"][:5]"
   ],
   "metadata": {
    "collapsed": false,
    "ExecuteTime": {
     "end_time": "2024-05-05T09:19:32.491049Z",
     "start_time": "2024-05-05T09:19:32.410734Z"
    }
   },
   "id": "725c245dd95680bd"
  },
  {
   "cell_type": "code",
   "execution_count": 9,
   "outputs": [
    {
     "data": {
      "text/plain": "       job_id skill_abr\n0  3690843087      ACCT\n1  3690843087       FIN\n2  3691763971      MGMT\n3  3691763971      MNFC\n4  3691775263      MGMT",
      "text/html": "<div>\n<style scoped>\n    .dataframe tbody tr th:only-of-type {\n        vertical-align: middle;\n    }\n\n    .dataframe tbody tr th {\n        vertical-align: top;\n    }\n\n    .dataframe thead th {\n        text-align: right;\n    }\n</style>\n<table border=\"1\" class=\"dataframe\">\n  <thead>\n    <tr style=\"text-align: right;\">\n      <th></th>\n      <th>job_id</th>\n      <th>skill_abr</th>\n    </tr>\n  </thead>\n  <tbody>\n    <tr>\n      <th>0</th>\n      <td>3690843087</td>\n      <td>ACCT</td>\n    </tr>\n    <tr>\n      <th>1</th>\n      <td>3690843087</td>\n      <td>FIN</td>\n    </tr>\n    <tr>\n      <th>2</th>\n      <td>3691763971</td>\n      <td>MGMT</td>\n    </tr>\n    <tr>\n      <th>3</th>\n      <td>3691763971</td>\n      <td>MNFC</td>\n    </tr>\n    <tr>\n      <th>4</th>\n      <td>3691775263</td>\n      <td>MGMT</td>\n    </tr>\n  </tbody>\n</table>\n</div>"
     },
     "execution_count": 9,
     "metadata": {},
     "output_type": "execute_result"
    }
   ],
   "source": [
    "dataset_job_skills.set_format(\"pandas\")\n",
    "dataset_job_skills[\"train\"][:5]"
   ],
   "metadata": {
    "collapsed": false,
    "ExecuteTime": {
     "end_time": "2024-05-05T09:19:33.787299Z",
     "start_time": "2024-05-05T09:19:33.742727Z"
    }
   },
   "id": "5ebae6fb1d92cdd1"
  },
  {
   "cell_type": "code",
   "execution_count": 10,
   "outputs": [
    {
     "data": {
      "text/plain": "       job_id  inferred                  type\n0  3690843087         0     Medical insurance\n1  3690843087         0      Dental insurance\n2  3690843087         0                401(k)\n3  3690843087         0  Paid maternity leave\n4  3690843087         0  Disability insurance",
      "text/html": "<div>\n<style scoped>\n    .dataframe tbody tr th:only-of-type {\n        vertical-align: middle;\n    }\n\n    .dataframe tbody tr th {\n        vertical-align: top;\n    }\n\n    .dataframe thead th {\n        text-align: right;\n    }\n</style>\n<table border=\"1\" class=\"dataframe\">\n  <thead>\n    <tr style=\"text-align: right;\">\n      <th></th>\n      <th>job_id</th>\n      <th>inferred</th>\n      <th>type</th>\n    </tr>\n  </thead>\n  <tbody>\n    <tr>\n      <th>0</th>\n      <td>3690843087</td>\n      <td>0</td>\n      <td>Medical insurance</td>\n    </tr>\n    <tr>\n      <th>1</th>\n      <td>3690843087</td>\n      <td>0</td>\n      <td>Dental insurance</td>\n    </tr>\n    <tr>\n      <th>2</th>\n      <td>3690843087</td>\n      <td>0</td>\n      <td>401(k)</td>\n    </tr>\n    <tr>\n      <th>3</th>\n      <td>3690843087</td>\n      <td>0</td>\n      <td>Paid maternity leave</td>\n    </tr>\n    <tr>\n      <th>4</th>\n      <td>3690843087</td>\n      <td>0</td>\n      <td>Disability insurance</td>\n    </tr>\n  </tbody>\n</table>\n</div>"
     },
     "execution_count": 10,
     "metadata": {},
     "output_type": "execute_result"
    }
   ],
   "source": [
    "dataset_job_benefits.set_format(\"pandas\")\n",
    "dataset_job_benefits[\"train\"][:5]"
   ],
   "metadata": {
    "collapsed": false,
    "ExecuteTime": {
     "end_time": "2024-05-05T09:19:34.919414Z",
     "start_time": "2024-05-05T09:19:34.894939Z"
    }
   },
   "id": "9baa708294b2ceb5"
  },
  {
   "cell_type": "code",
   "execution_count": 11,
   "outputs": [
    {
     "data": {
      "text/plain": "DatasetDict({\n    train: Dataset({\n        features: ['job_id', 'inferred', 'job_benefits'],\n        num_rows: 29325\n    })\n})"
     },
     "execution_count": 11,
     "metadata": {},
     "output_type": "execute_result"
    }
   ],
   "source": [
    "dataset_job_benefits = dataset_job_benefits.rename_column(\n",
    "    original_column_name=\"type\", new_column_name=\"job_benefits\"\n",
    ")\n",
    "dataset_job_benefits"
   ],
   "metadata": {
    "collapsed": false,
    "ExecuteTime": {
     "end_time": "2024-05-05T09:19:36.272462Z",
     "start_time": "2024-05-05T09:19:36.230612Z"
    }
   },
   "id": "81e2bba777aaa88c"
  },
  {
   "cell_type": "markdown",
   "source": [
    "## Single Sample Inspection"
   ],
   "metadata": {
    "collapsed": false
   },
   "id": "81a7ff5493680be4"
  },
  {
   "cell_type": "code",
   "execution_count": 12,
   "outputs": [
    {
     "data": {
      "text/plain": "{'job_id': 3690843087,\n 'company_id': 6049228.0,\n 'title': 'Real Estate Staff Accountant',\n 'description': 'Job Description:The Staff Accountant will be responsible for the timely and accurate preparation of financial statements, variance reports, and balance sheet reconciliation for assigned properties. Assist accounting group with general journal entries, bank reconciliations, weekly cash reporting and special projects. Responsibilities include but are not limited to:Prepare monthly financial statements for a portfolio of properties and produce variance reports based on the analyzed results.Maintain schedules supporting balance sheet accounts, including mortgage statement reconciliations, capital schedules and bank reconciliations and submit to VP, Accounting for review.Prepare and post adjusting journal entries to the general ledger.Review income, expense, and capital purchases for accurate coding and payment.Perform bank reconciliations and maintain fixed asset tracking systems.Prepare and post bank deposits.Assist Cash Management Department with daily reporting requirements.Provide additional financial statement and general ledger analysis as needed.Participate in other projects as business needs warrant. Qualifications:Strong computer skills especially proficient in MS ExcelAbility to communicate effectively and professionally.Must possess strong time management, analytical and interpersonal skills.1-3 years of direct work experienceBS in Accounting or Finance required.Yardi, AppFolio, Entrata and OneSite experience a plus Job Type: Full-time Benefits:401(k)401(k) matchingDental insuranceDisability insuranceEmployee assistance programFlexible scheduleFlexible spending accountHealth insuranceLife insurancePaid time offParental leaveProfessional development assistanceTuition reimbursement Physical setting:Office Schedule:Monday to Friday Supplemental pay types:Bonus pay Ability to commute/relocate:Norwood, MA 02062: Reliably commute or planning to relocate before starting work (Required) Experience:GAAP: 1 year (Preferred) License/Certification:CPA (Preferred) Work Location: One location ',\n 'max_salary': 65000.0,\n 'med_salary': nan,\n 'min_salary': 55000.0,\n 'pay_period': 'YEARLY',\n 'formatted_work_type': 'Full-time',\n 'location': 'Norwood, MA',\n 'applies': 11.0,\n 'original_listed_time': 1691700000000.0,\n 'remote_allowed': nan,\n 'views': 73.0,\n 'job_posting_url': 'https://www.linkedin.com/jobs/view/3690843087/?trk=jobs_biz_prem_srch',\n 'application_url': None,\n 'application_type': 'ComplexOnsiteApply',\n 'expiry': 1707250000000.0,\n 'closed_time': nan,\n 'formatted_experience_level': None,\n 'skills_desc': None,\n 'listed_time': 1691700000000.0,\n 'posting_domain': None,\n 'sponsored': 0,\n 'work_type': 'FULL_TIME',\n 'currency': 'USD',\n 'compensation_type': 'BASE_SALARY',\n 'scraped': 1}"
     },
     "execution_count": 12,
     "metadata": {},
     "output_type": "execute_result"
    }
   ],
   "source": [
    "dataset_job_listing.set_format(\"numpy\")\n",
    "# dataset_job_listing[\"train\"][\"job_id\" == 3690843087]\n",
    "val = dataset_job_listing[\"train\"].filter(lambda x: x[\"job_id\"] == 3690843087)\n",
    "val[0]"
   ],
   "metadata": {
    "collapsed": false,
    "ExecuteTime": {
     "end_time": "2024-05-05T09:19:38.550403Z",
     "start_time": "2024-05-05T09:19:38.507581Z"
    }
   },
   "id": "3dffb929c2aa5bbd"
  },
  {
   "cell_type": "markdown",
   "source": [
    "## How many remote jobs are available?"
   ],
   "metadata": {
    "collapsed": false
   },
   "id": "650368be0b89621d"
  },
  {
   "cell_type": "code",
   "execution_count": 13,
   "outputs": [
    {
     "data": {
      "text/plain": "NaN    28444\n1.0     4802\nName: remote_allowed, dtype: int64"
     },
     "execution_count": 13,
     "metadata": {},
     "output_type": "execute_result"
    }
   ],
   "source": [
    "dataset_job_listing.set_format(\"pandas\")\n",
    "dataset_job_listing[\"train\"][\"remote_allowed\"].value_counts(dropna=False)"
   ],
   "metadata": {
    "collapsed": false,
    "ExecuteTime": {
     "end_time": "2024-05-05T09:19:41.273578Z",
     "start_time": "2024-05-05T09:19:41.236190Z"
    }
   },
   "id": "59b799e6bc1a17b8"
  },
  {
   "cell_type": "markdown",
   "source": [
    "# Merge company name to job listing"
   ],
   "metadata": {
    "collapsed": false
   },
   "id": "c6048b3f1f53dcfc"
  },
  {
   "cell_type": "code",
   "execution_count": 14,
   "outputs": [
    {
     "data": {
      "text/plain": "   company_id                        name  \\\n0        1009                         IBM   \n1        1016               GE HealthCare   \n2        1021                    GE Power   \n3        1025  Hewlett Packard Enterprise   \n4        1028                      Oracle   \n\n                                         description  company_size  state  \\\n0  At IBM, we do more than work. We create. We cr...           7.0     NY   \n1  Every day millions of people feel the impact o...           7.0      0   \n2  GE Power, part of GE Vernova, is a world energ...           7.0     NY   \n3  Official LinkedIn of Hewlett Packard Enterpris...           7.0  Texas   \n4  We’re a cloud technology company that provides...           7.0  Texas   \n\n  country              city zip_code                                address  \\\n0      US  Armonk, New York    10504  International Business Machines Corp.   \n1      US           Chicago        0                                      -   \n2      US       Schenectady    12345                           1 River Road   \n3      US           Houston    77389            1701 E Mossy Oaks Rd Spring   \n4      US            Austin    78741                        2300 Oracle Way   \n\n                                                 url  \n0               https://www.linkedin.com/company/ibm  \n1      https://www.linkedin.com/company/gehealthcare  \n2           https://www.linkedin.com/company/gepower  \n3  https://www.linkedin.com/company/hewlett-packa...  \n4            https://www.linkedin.com/company/oracle  ",
      "text/html": "<div>\n<style scoped>\n    .dataframe tbody tr th:only-of-type {\n        vertical-align: middle;\n    }\n\n    .dataframe tbody tr th {\n        vertical-align: top;\n    }\n\n    .dataframe thead th {\n        text-align: right;\n    }\n</style>\n<table border=\"1\" class=\"dataframe\">\n  <thead>\n    <tr style=\"text-align: right;\">\n      <th></th>\n      <th>company_id</th>\n      <th>name</th>\n      <th>description</th>\n      <th>company_size</th>\n      <th>state</th>\n      <th>country</th>\n      <th>city</th>\n      <th>zip_code</th>\n      <th>address</th>\n      <th>url</th>\n    </tr>\n  </thead>\n  <tbody>\n    <tr>\n      <th>0</th>\n      <td>1009</td>\n      <td>IBM</td>\n      <td>At IBM, we do more than work. We create. We cr...</td>\n      <td>7.0</td>\n      <td>NY</td>\n      <td>US</td>\n      <td>Armonk, New York</td>\n      <td>10504</td>\n      <td>International Business Machines Corp.</td>\n      <td>https://www.linkedin.com/company/ibm</td>\n    </tr>\n    <tr>\n      <th>1</th>\n      <td>1016</td>\n      <td>GE HealthCare</td>\n      <td>Every day millions of people feel the impact o...</td>\n      <td>7.0</td>\n      <td>0</td>\n      <td>US</td>\n      <td>Chicago</td>\n      <td>0</td>\n      <td>-</td>\n      <td>https://www.linkedin.com/company/gehealthcare</td>\n    </tr>\n    <tr>\n      <th>2</th>\n      <td>1021</td>\n      <td>GE Power</td>\n      <td>GE Power, part of GE Vernova, is a world energ...</td>\n      <td>7.0</td>\n      <td>NY</td>\n      <td>US</td>\n      <td>Schenectady</td>\n      <td>12345</td>\n      <td>1 River Road</td>\n      <td>https://www.linkedin.com/company/gepower</td>\n    </tr>\n    <tr>\n      <th>3</th>\n      <td>1025</td>\n      <td>Hewlett Packard Enterprise</td>\n      <td>Official LinkedIn of Hewlett Packard Enterpris...</td>\n      <td>7.0</td>\n      <td>Texas</td>\n      <td>US</td>\n      <td>Houston</td>\n      <td>77389</td>\n      <td>1701 E Mossy Oaks Rd Spring</td>\n      <td>https://www.linkedin.com/company/hewlett-packa...</td>\n    </tr>\n    <tr>\n      <th>4</th>\n      <td>1028</td>\n      <td>Oracle</td>\n      <td>We’re a cloud technology company that provides...</td>\n      <td>7.0</td>\n      <td>Texas</td>\n      <td>US</td>\n      <td>Austin</td>\n      <td>78741</td>\n      <td>2300 Oracle Way</td>\n      <td>https://www.linkedin.com/company/oracle</td>\n    </tr>\n  </tbody>\n</table>\n</div>"
     },
     "execution_count": 14,
     "metadata": {},
     "output_type": "execute_result"
    }
   ],
   "source": [
    "dataset_company = load_dataset(\"csv\", data_files=\"./data/FinalProject/company_details/companies.csv\")\n",
    "dataset_company.set_format(\"pandas\")\n",
    "dataset_company[\"train\"][:5]"
   ],
   "metadata": {
    "collapsed": false,
    "ExecuteTime": {
     "end_time": "2024-05-05T09:19:44.598107Z",
     "start_time": "2024-05-05T09:19:44.236014Z"
    }
   },
   "id": "660f876f61e9695f"
  },
  {
   "cell_type": "code",
   "execution_count": 15,
   "outputs": [
    {
     "data": {
      "text/plain": "'IBM'"
     },
     "execution_count": 15,
     "metadata": {},
     "output_type": "execute_result"
    }
   ],
   "source": [
    "dataset_company[\"train\"].filter(lambda x: x[\"company_id\"] == 1009)[0][\"name\"][0]"
   ],
   "metadata": {
    "collapsed": false,
    "ExecuteTime": {
     "end_time": "2024-05-05T09:19:46.118097Z",
     "start_time": "2024-05-05T09:19:46.101195Z"
    }
   },
   "id": "2db288946cf3f958"
  },
  {
   "cell_type": "code",
   "execution_count": 16,
   "outputs": [],
   "source": [
    "def add_company_name(sample):\n",
    "    if sample[\"company_id\"] is not None:\n",
    "        return {\"company_name\": dataset_company[\"train\"].filter(lambda x: x[\"company_id\"] == 1009)[0][\"name\"][0]}\n",
    "#         return {\"company_name\": \"alpha\"}\n",
    "    else:\n",
    "        return {\"company_name\": None}"
   ],
   "metadata": {
    "collapsed": false,
    "ExecuteTime": {
     "end_time": "2024-05-05T09:19:47.270844Z",
     "start_time": "2024-05-05T09:19:47.263150Z"
    }
   },
   "id": "d8824da7fbd6f976"
  },
  {
   "cell_type": "markdown",
   "source": [
    "# Embedding of Descriptions"
   ],
   "metadata": {
    "collapsed": false
   },
   "id": "e60cd4f22e1129cc"
  },
  {
   "cell_type": "code",
   "execution_count": 17,
   "outputs": [],
   "source": [
    "from transformers import AutoTokenizer, AutoModel\n",
    "\n",
    "model_ckpt = \"BAAI/bge-large-en\" # can choose different checkpoint for sentence similarity \"https://huggingface.co/models?pipeline_tag=sentence-similarity\"\n",
    "tokenizer = AutoTokenizer.from_pretrained(model_ckpt)\n",
    "model = AutoModel.from_pretrained(model_ckpt)"
   ],
   "metadata": {
    "collapsed": false,
    "ExecuteTime": {
     "end_time": "2024-05-05T09:19:58.631852Z",
     "start_time": "2024-05-05T09:19:51.406597Z"
    }
   },
   "id": "f8950b6d1a865303"
  },
  {
   "cell_type": "code",
   "execution_count": 18,
   "outputs": [
    {
     "name": "stdout",
     "output_type": "stream",
     "text": [
      "Torch not compiled with CUDA enabled\n",
      "Using CPU\n"
     ]
    }
   ],
   "source": [
    "import torch\n",
    "\n",
    "try:\n",
    "    device = torch.device(\"cuda\")\n",
    "    model.to(device)\n",
    "    print(\"Using CUDA\")\n",
    "except Exception as e:\n",
    "    print(e)\n",
    "    device = torch.device(\"cpu\")\n",
    "    model.to(device)\n",
    "    print(\"Using CPU\")"
   ],
   "metadata": {
    "collapsed": false,
    "ExecuteTime": {
     "end_time": "2024-05-05T09:19:59.803967Z",
     "start_time": "2024-05-05T09:19:59.793730Z"
    }
   },
   "id": "85c82aa950f0025e"
  },
  {
   "cell_type": "code",
   "execution_count": 19,
   "outputs": [],
   "source": [
    "# get embedding by pooling the output of last later\n",
    "def cls_pooling(model_output):\n",
    "    return model_output.last_hidden_state[:, 0]"
   ],
   "metadata": {
    "collapsed": false,
    "ExecuteTime": {
     "end_time": "2024-05-05T09:20:01.526566Z",
     "start_time": "2024-05-05T09:20:01.499439Z"
    }
   },
   "id": "d0843c1ec70f7840"
  },
  {
   "cell_type": "code",
   "execution_count": 20,
   "outputs": [
    {
     "name": "stderr",
     "output_type": "stream",
     "text": [
      "[nltk_data] Downloading package stopwords to /Users/mani/nltk_data...\n",
      "[nltk_data]   Package stopwords is already up-to-date!\n"
     ]
    }
   ],
   "source": [
    "from nltk.corpus import stopwords\n",
    "import nltk\n",
    "nltk.download('stopwords')\n",
    "stop_words = set(stopwords.words('english'))"
   ],
   "metadata": {
    "collapsed": false,
    "ExecuteTime": {
     "end_time": "2024-05-05T09:20:05.491589Z",
     "start_time": "2024-05-05T09:20:04.089890Z"
    }
   },
   "id": "a6d19b8ce6ee90c0"
  },
  {
   "cell_type": "code",
   "execution_count": 21,
   "outputs": [
    {
     "data": {
      "text/plain": "{'a',\n 'about',\n 'above',\n 'after',\n 'again',\n 'against',\n 'ain',\n 'all',\n 'am',\n 'an',\n 'and',\n 'any',\n 'are',\n 'aren',\n \"aren't\",\n 'as',\n 'at',\n 'be',\n 'because',\n 'been',\n 'before',\n 'being',\n 'below',\n 'between',\n 'both',\n 'but',\n 'by',\n 'can',\n 'couldn',\n \"couldn't\",\n 'd',\n 'did',\n 'didn',\n \"didn't\",\n 'do',\n 'does',\n 'doesn',\n \"doesn't\",\n 'doing',\n 'don',\n \"don't\",\n 'down',\n 'during',\n 'each',\n 'few',\n 'for',\n 'from',\n 'further',\n 'had',\n 'hadn',\n \"hadn't\",\n 'has',\n 'hasn',\n \"hasn't\",\n 'have',\n 'haven',\n \"haven't\",\n 'having',\n 'he',\n 'her',\n 'here',\n 'hers',\n 'herself',\n 'him',\n 'himself',\n 'his',\n 'how',\n 'i',\n 'if',\n 'in',\n 'into',\n 'is',\n 'isn',\n \"isn't\",\n 'it',\n \"it's\",\n 'its',\n 'itself',\n 'just',\n 'll',\n 'm',\n 'ma',\n 'me',\n 'mightn',\n \"mightn't\",\n 'more',\n 'most',\n 'mustn',\n \"mustn't\",\n 'my',\n 'myself',\n 'needn',\n \"needn't\",\n 'no',\n 'nor',\n 'not',\n 'now',\n 'o',\n 'of',\n 'off',\n 'on',\n 'once',\n 'only',\n 'or',\n 'other',\n 'our',\n 'ours',\n 'ourselves',\n 'out',\n 'over',\n 'own',\n 're',\n 's',\n 'same',\n 'shan',\n \"shan't\",\n 'she',\n \"she's\",\n 'should',\n \"should've\",\n 'shouldn',\n \"shouldn't\",\n 'so',\n 'some',\n 'such',\n 't',\n 'than',\n 'that',\n \"that'll\",\n 'the',\n 'their',\n 'theirs',\n 'them',\n 'themselves',\n 'then',\n 'there',\n 'these',\n 'they',\n 'this',\n 'those',\n 'through',\n 'to',\n 'too',\n 'under',\n 'until',\n 'up',\n 've',\n 'very',\n 'was',\n 'wasn',\n \"wasn't\",\n 'we',\n 'were',\n 'weren',\n \"weren't\",\n 'what',\n 'when',\n 'where',\n 'which',\n 'while',\n 'who',\n 'whom',\n 'why',\n 'will',\n 'with',\n 'won',\n \"won't\",\n 'wouldn',\n \"wouldn't\",\n 'y',\n 'you',\n \"you'd\",\n \"you'll\",\n \"you're\",\n \"you've\",\n 'your',\n 'yours',\n 'yourself',\n 'yourselves'}"
     },
     "execution_count": 21,
     "metadata": {},
     "output_type": "execute_result"
    }
   ],
   "source": [
    "stop_words"
   ],
   "metadata": {
    "collapsed": false,
    "ExecuteTime": {
     "end_time": "2024-05-05T09:20:06.319966Z",
     "start_time": "2024-05-05T09:20:06.309439Z"
    }
   },
   "id": "68f369982f1c10eb"
  },
  {
   "cell_type": "code",
   "execution_count": 22,
   "outputs": [],
   "source": [
    "def get_embeddings(job_listing):\n",
    "    description_without_stopwords = ' '.join([word for word in job_listing[\"description\"][0].split() if word.lower() not in stop_words])\n",
    "    # encoded_input = tokenizer(\n",
    "    #     job_listing[\"description\"][0], padding=True, truncation=True, return_tensors=\"pt\"\n",
    "    # )\n",
    "    encoded_input = tokenizer(\n",
    "        description_without_stopwords, \n",
    "        padding=True, \n",
    "        truncation=True, \n",
    "        return_tensors=\"pt\"\n",
    "    )\n",
    "    encoded_input = {k: v.to(device) for k, v in encoded_input.items()}\n",
    "    model_output = model(**encoded_input)\n",
    "    return cls_pooling(model_output)"
   ],
   "metadata": {
    "collapsed": false,
    "ExecuteTime": {
     "end_time": "2024-05-05T09:20:07.960070Z",
     "start_time": "2024-05-05T09:20:07.952723Z"
    }
   },
   "id": "9755ea5641b026d6"
  },
  {
   "cell_type": "code",
   "execution_count": 23,
   "outputs": [],
   "source": [
    "embedding = get_embeddings(dataset_job_listing[\"train\"][0])\n"
   ],
   "metadata": {
    "collapsed": false,
    "ExecuteTime": {
     "end_time": "2024-05-05T09:20:14.643773Z",
     "start_time": "2024-05-05T09:20:10.802201Z"
    }
   },
   "id": "2d021bede6c11e73"
  },
  {
   "cell_type": "code",
   "execution_count": 24,
   "outputs": [
    {
     "data": {
      "text/plain": "array([-0.19017096, -0.04894827, -0.99637604, ..., -0.24494602,\n       -0.38430423,  0.26039067], dtype=float32)"
     },
     "execution_count": 24,
     "metadata": {},
     "output_type": "execute_result"
    }
   ],
   "source": [
    "embedding.detach().cpu().numpy()[0]"
   ],
   "metadata": {
    "collapsed": false,
    "ExecuteTime": {
     "end_time": "2024-05-05T09:20:15.854136Z",
     "start_time": "2024-05-05T09:20:15.627857Z"
    }
   },
   "id": "676a6fd33a57f306"
  },
  {
   "cell_type": "markdown",
   "source": [
    "# Train-Validation Split"
   ],
   "metadata": {
    "collapsed": false
   },
   "id": "5fc2c9ff43162edd"
  },
  {
   "cell_type": "code",
   "execution_count": 25,
   "outputs": [
    {
     "data": {
      "text/plain": "DatasetDict({\n    train: Dataset({\n        features: ['job_id', 'company_id', 'title', 'description', 'max_salary', 'med_salary', 'min_salary', 'pay_period', 'formatted_work_type', 'location', 'applies', 'original_listed_time', 'remote_allowed', 'views', 'job_posting_url', 'application_url', 'application_type', 'expiry', 'closed_time', 'formatted_experience_level', 'skills_desc', 'listed_time', 'posting_domain', 'sponsored', 'work_type', 'currency', 'compensation_type', 'scraped'],\n        num_rows: 32913\n    })\n    validation: Dataset({\n        features: ['job_id', 'company_id', 'title', 'description', 'max_salary', 'med_salary', 'min_salary', 'pay_period', 'formatted_work_type', 'location', 'applies', 'original_listed_time', 'remote_allowed', 'views', 'job_posting_url', 'application_url', 'application_type', 'expiry', 'closed_time', 'formatted_experience_level', 'skills_desc', 'listed_time', 'posting_domain', 'sponsored', 'work_type', 'currency', 'compensation_type', 'scraped'],\n        num_rows: 333\n    })\n})"
     },
     "execution_count": 25,
     "metadata": {},
     "output_type": "execute_result"
    }
   ],
   "source": [
    "dataset_job_listing_splited = dataset_job_listing[\"train\"].train_test_split(train_size=0.70, seed=42)\n",
    "# Rename the default \"test\" split to \"validation\"\n",
    "dataset_job_listing_splited[\"validation\"] = dataset_job_listing_splited.pop(\"test\")\n",
    "# Add the \"test\" set to our `DatasetDict`\n",
    "dataset_job_listing_splited"
   ],
   "metadata": {
    "collapsed": false,
    "ExecuteTime": {
     "end_time": "2024-05-05T09:20:22.119390Z",
     "start_time": "2024-05-05T09:20:21.792651Z"
    }
   },
   "id": "b0bc867b9a9977fb"
  },
  {
   "cell_type": "code",
   "execution_count": 26,
   "outputs": [
    {
     "data": {
      "text/plain": "Dataset({\n    features: ['job_id', 'company_id', 'title', 'description', 'max_salary', 'med_salary', 'min_salary', 'pay_period', 'formatted_work_type', 'location', 'applies', 'original_listed_time', 'remote_allowed', 'views', 'job_posting_url', 'application_url', 'application_type', 'expiry', 'closed_time', 'formatted_experience_level', 'skills_desc', 'listed_time', 'posting_domain', 'sponsored', 'work_type', 'currency', 'compensation_type', 'scraped'],\n    num_rows: 333\n})"
     },
     "execution_count": 26,
     "metadata": {},
     "output_type": "execute_result"
    }
   ],
   "source": [
    "dataset_job_listing_splited[\"validation\"]"
   ],
   "metadata": {
    "collapsed": false,
    "ExecuteTime": {
     "end_time": "2024-05-05T09:20:23.929738Z",
     "start_time": "2024-05-05T09:20:23.917843Z"
    }
   },
   "id": "e38e6e6dcb66179"
  },
  {
   "cell_type": "code",
   "execution_count": 25,
   "outputs": [
    {
     "data": {
      "text/plain": "Map:   0%|          | 0/333 [00:00<?, ? examples/s]",
      "application/vnd.jupyter.widget-view+json": {
       "version_major": 2,
       "version_minor": 0,
       "model_id": "6db5bd81cbdf46f7b866d123c6ae2e38"
      }
     },
     "metadata": {},
     "output_type": "display_data"
    }
   ],
   "source": [
    "embeddings_dataset = dataset_job_listing_splited[\"validation\"].map(\n",
    "    lambda x: {**{feature: x[feature][0] for feature in x},\"embeddings\": get_embeddings(x).detach().cpu().numpy()[0]}\n",
    ")"
   ],
   "metadata": {
    "collapsed": false,
    "ExecuteTime": {
     "end_time": "2024-05-04T23:47:03.737261Z",
     "start_time": "2024-05-04T23:42:02.527571Z"
    }
   },
   "id": "b446b3fab6362a09"
  },
  {
   "cell_type": "code",
   "execution_count": 38,
   "outputs": [],
   "source": [
    "type(embeddings_dataset)\n",
    "from datasets import load_dataset\n",
    "edf = embeddings_dataset.to_pandas()\n",
    "edf.to_csv(\"./out/FinalProject/embeddings_dataset.csv\",index=False)"
   ],
   "metadata": {
    "collapsed": false,
    "ExecuteTime": {
     "end_time": "2024-05-05T00:26:03.300865Z",
     "start_time": "2024-05-05T00:26:03.235500Z"
    }
   },
   "id": "21304527f3175bb6"
  },
  {
   "cell_type": "code",
   "execution_count": 27,
   "outputs": [],
   "source": [
    "import pickle\n",
    "\n",
    "# Save embeddings to a file\n",
    "def save_embeddings(embeddings, filename):\n",
    "    with open(filename, 'wb') as file:\n",
    "        pickle.dump(embeddings, file)\n",
    "\n",
    "# Load embeddings from a file\n",
    "def load_embeddings(filename):\n",
    "    with open(filename, 'rb') as file:\n",
    "        embeddings = pickle.load(file)\n",
    "    return embeddings"
   ],
   "metadata": {
    "collapsed": false,
    "ExecuteTime": {
     "end_time": "2024-05-05T09:20:31.696142Z",
     "start_time": "2024-05-05T09:20:31.690323Z"
    }
   },
   "id": "af45137d3654bd4f"
  },
  {
   "cell_type": "code",
   "execution_count": 32,
   "outputs": [],
   "source": [
    "save_embeddings(embeddings_dataset, './out/FinalProject/embeddings.pkl')"
   ],
   "metadata": {
    "collapsed": false,
    "ExecuteTime": {
     "end_time": "2024-05-04T23:49:07.569326Z",
     "start_time": "2024-05-04T23:49:07.555912Z"
    }
   },
   "id": "391583978b050068"
  },
  {
   "cell_type": "code",
   "execution_count": 28,
   "outputs": [],
   "source": [
    "embeddings_dataset = load_embeddings('./out/FinalProject/embeddings.pkl')"
   ],
   "metadata": {
    "collapsed": false,
    "ExecuteTime": {
     "end_time": "2024-05-05T09:20:43.354832Z",
     "start_time": "2024-05-05T09:20:43.323547Z"
    }
   },
   "id": "961819c3a10ab42c"
  },
  {
   "cell_type": "code",
   "execution_count": 29,
   "outputs": [],
   "source": [
    "def search_jobs(search_query, embeddings = embeddings_dataset[\"embeddings\"], k=5):\n",
    "    # embedding search query\n",
    "    question = {\"description\": [search_query]} # similar to the job description from our validation set\n",
    "    question_embedding = get_embeddings(question).cpu().detach().numpy()\n",
    "    print(question_embedding)\n",
    "    print(\"~~~~~~~~~~~~~~~~~~~~~~~~~~~~\")\n",
    "    print(embeddings)\n",
    "    # finding similari embeddings\n",
    "    similarity_scores = list()\n",
    "    for e in embeddings:\n",
    "        similarity = 1 - cosine(question_embedding[0], e)\n",
    "        similarity_scores.append(similarity)\n",
    "    similarity_scores = np.array(similarity_scores)\n",
    "    ranks = np.argsort(similarity_scores)\n",
    "    ranks = ranks[::-1] # revers\n",
    "    return ranks[:k]"
   ],
   "metadata": {
    "collapsed": false,
    "ExecuteTime": {
     "end_time": "2024-05-05T09:20:45.153902Z",
     "start_time": "2024-05-05T09:20:45.119394Z"
    }
   },
   "id": "796a5180a1e656fd"
  },
  {
   "cell_type": "code",
   "execution_count": 30,
   "outputs": [],
   "source": [
    "embeddings_dataset.set_format(\"pandas\")"
   ],
   "metadata": {
    "collapsed": false,
    "ExecuteTime": {
     "end_time": "2024-05-05T09:20:46.609867Z",
     "start_time": "2024-05-05T09:20:46.599872Z"
    }
   },
   "id": "a796959d9e849ed9"
  },
  {
   "cell_type": "code",
   "execution_count": 31,
   "outputs": [
    {
     "name": "stdout",
     "output_type": "stream",
     "text": [
      "[[-0.6668177  -0.1992101  -0.70716935 ... -0.46833998 -0.3380486\n",
      "   0.1957601 ]]\n",
      "~~~~~~~~~~~~~~~~~~~~~~~~~~~~\n",
      "0      [-0.20165858, -0.1898982, 0.029408064, -0.0751...\n",
      "1      [0.10283324, 0.32933587, -0.967921, -0.1749288...\n",
      "2      [0.17482142, -0.12671983, -0.7530961, 0.296593...\n",
      "3      [-0.25011727, 0.22052401, -1.2164526, 0.762486...\n",
      "4      [0.2697214, 0.05615599, -0.99282575, 0.3783834...\n",
      "                             ...                        \n",
      "328    [-0.30821782, 0.1583257, -0.7329063, 0.7701879...\n",
      "329    [-0.2622648, 0.15121868, -0.53283894, 0.393095...\n",
      "330    [0.09616993, -0.22489917, -0.61583275, 0.52114...\n",
      "331    [0.07531997, -0.3158663, -0.87063944, 0.610536...\n",
      "332    [-0.09819049, -0.11728428, -0.7926496, 0.56446...\n",
      "Name: embeddings, Length: 333, dtype: object\n"
     ]
    },
    {
     "data": {
      "text/plain": "array([200,   0, 220, 211, 195, 121, 215,  31, 317, 194,  11, 189, 165,\n       268, 122])"
     },
     "execution_count": 31,
     "metadata": {},
     "output_type": "execute_result"
    }
   ],
   "source": [
    "ranks = search_jobs(\"I need a job for Graduate in data engineering field\", k=15)\n",
    "ranks"
   ],
   "metadata": {
    "collapsed": false,
    "ExecuteTime": {
     "end_time": "2024-05-05T09:20:50.020131Z",
     "start_time": "2024-05-05T09:20:47.641889Z"
    }
   },
   "id": "e4f46a4dcb9962e7"
  },
  {
   "cell_type": "code",
   "execution_count": 32,
   "outputs": [],
   "source": [
    "data = embeddings_dataset[:].iloc[ranks]"
   ],
   "metadata": {
    "collapsed": false,
    "ExecuteTime": {
     "end_time": "2024-05-05T09:20:52.175216Z",
     "start_time": "2024-05-05T09:20:52.039371Z"
    }
   },
   "id": "c1da96a14dcf696f"
  },
  {
   "cell_type": "code",
   "execution_count": 33,
   "outputs": [
    {
     "data": {
      "text/plain": "         job_id  company_id  \\\n200  3757493445     71939.0   \n0    3701300194     16690.0   \n220  3694101880  10801655.0   \n211  3701323814  11419009.0   \n195  3757453047  18583501.0   \n\n                                                 title  \\\n200                                  Software Engineer   \n0    Director Data Architect (20+ years relevant ex...   \n220               Senior Data Engineer (Public Sector)   \n211                           Client Analytics Manager   \n195       Senior/Staff Backend Engineer @ Siftstack.io   \n\n                                           description  max_salary  \\\n200  A great opportunity to work with one of our le...        75.0   \n0    Job Title: Director, Data ArchitectLocation: F...         NaN   \n220  Publicis Sapient | Public Sector is looking fo...    135000.0   \n211  Hours: Full-time, 40hrs per week, Monday - Fri...    125000.0   \n195  SOFTWARE ENGINEER \\nAt Sift (https://www.sifts...         NaN   \n\n     med_salary  min_salary pay_period formatted_work_type         location  \\\n200         NaN        73.0     HOURLY            Contract    United States   \n0           NaN         NaN       None            Contract       Boston, MA   \n220         NaN    108000.0     YEARLY           Full-time    Arlington, VA   \n211         NaN    110000.0     YEARLY           Full-time    United States   \n195         NaN         NaN       None           Full-time  Los Angeles, CA   \n\n     ...  formatted_experience_level  skills_desc   listed_time  \\\n200  ...            Mid-Senior level         None  1.699050e+12   \n0    ...                    Director         None  1.692730e+12   \n220  ...            Mid-Senior level         None  1.692840e+12   \n211  ...            Mid-Senior level         None  1.692740e+12   \n195  ...            Mid-Senior level         None  1.699040e+12   \n\n     posting_domain sponsored  work_type currency  compensation_type  \\\n200            None         0   CONTRACT      USD        BASE_SALARY   \n0              None         0   CONTRACT     None               None   \n220            None         0  FULL_TIME      USD        BASE_SALARY   \n211            None         0  FULL_TIME      USD        BASE_SALARY   \n195            None         0  FULL_TIME     None               None   \n\n        scraped                                         embeddings  \n200  1699057868  [-0.22098792, -0.15475607, -1.141057, -0.18972...  \n0             1  [-0.20165858, -0.1898982, 0.029408064, -0.0751...  \n220           1  [-0.33632556, -0.2524207, -0.20332187, 0.45060...  \n211           1  [0.030233672, 0.14783004, -0.8847311, 0.163758...  \n195  1699042973  [-0.6543105, -0.22370934, -0.53103113, 0.06223...  \n\n[5 rows x 29 columns]",
      "text/html": "<div>\n<style scoped>\n    .dataframe tbody tr th:only-of-type {\n        vertical-align: middle;\n    }\n\n    .dataframe tbody tr th {\n        vertical-align: top;\n    }\n\n    .dataframe thead th {\n        text-align: right;\n    }\n</style>\n<table border=\"1\" class=\"dataframe\">\n  <thead>\n    <tr style=\"text-align: right;\">\n      <th></th>\n      <th>job_id</th>\n      <th>company_id</th>\n      <th>title</th>\n      <th>description</th>\n      <th>max_salary</th>\n      <th>med_salary</th>\n      <th>min_salary</th>\n      <th>pay_period</th>\n      <th>formatted_work_type</th>\n      <th>location</th>\n      <th>...</th>\n      <th>formatted_experience_level</th>\n      <th>skills_desc</th>\n      <th>listed_time</th>\n      <th>posting_domain</th>\n      <th>sponsored</th>\n      <th>work_type</th>\n      <th>currency</th>\n      <th>compensation_type</th>\n      <th>scraped</th>\n      <th>embeddings</th>\n    </tr>\n  </thead>\n  <tbody>\n    <tr>\n      <th>200</th>\n      <td>3757493445</td>\n      <td>71939.0</td>\n      <td>Software Engineer</td>\n      <td>A great opportunity to work with one of our le...</td>\n      <td>75.0</td>\n      <td>NaN</td>\n      <td>73.0</td>\n      <td>HOURLY</td>\n      <td>Contract</td>\n      <td>United States</td>\n      <td>...</td>\n      <td>Mid-Senior level</td>\n      <td>None</td>\n      <td>1.699050e+12</td>\n      <td>None</td>\n      <td>0</td>\n      <td>CONTRACT</td>\n      <td>USD</td>\n      <td>BASE_SALARY</td>\n      <td>1699057868</td>\n      <td>[-0.22098792, -0.15475607, -1.141057, -0.18972...</td>\n    </tr>\n    <tr>\n      <th>0</th>\n      <td>3701300194</td>\n      <td>16690.0</td>\n      <td>Director Data Architect (20+ years relevant ex...</td>\n      <td>Job Title: Director, Data ArchitectLocation: F...</td>\n      <td>NaN</td>\n      <td>NaN</td>\n      <td>NaN</td>\n      <td>None</td>\n      <td>Contract</td>\n      <td>Boston, MA</td>\n      <td>...</td>\n      <td>Director</td>\n      <td>None</td>\n      <td>1.692730e+12</td>\n      <td>None</td>\n      <td>0</td>\n      <td>CONTRACT</td>\n      <td>None</td>\n      <td>None</td>\n      <td>1</td>\n      <td>[-0.20165858, -0.1898982, 0.029408064, -0.0751...</td>\n    </tr>\n    <tr>\n      <th>220</th>\n      <td>3694101880</td>\n      <td>10801655.0</td>\n      <td>Senior Data Engineer (Public Sector)</td>\n      <td>Publicis Sapient | Public Sector is looking fo...</td>\n      <td>135000.0</td>\n      <td>NaN</td>\n      <td>108000.0</td>\n      <td>YEARLY</td>\n      <td>Full-time</td>\n      <td>Arlington, VA</td>\n      <td>...</td>\n      <td>Mid-Senior level</td>\n      <td>None</td>\n      <td>1.692840e+12</td>\n      <td>None</td>\n      <td>0</td>\n      <td>FULL_TIME</td>\n      <td>USD</td>\n      <td>BASE_SALARY</td>\n      <td>1</td>\n      <td>[-0.33632556, -0.2524207, -0.20332187, 0.45060...</td>\n    </tr>\n    <tr>\n      <th>211</th>\n      <td>3701323814</td>\n      <td>11419009.0</td>\n      <td>Client Analytics Manager</td>\n      <td>Hours: Full-time, 40hrs per week, Monday - Fri...</td>\n      <td>125000.0</td>\n      <td>NaN</td>\n      <td>110000.0</td>\n      <td>YEARLY</td>\n      <td>Full-time</td>\n      <td>United States</td>\n      <td>...</td>\n      <td>Mid-Senior level</td>\n      <td>None</td>\n      <td>1.692740e+12</td>\n      <td>None</td>\n      <td>0</td>\n      <td>FULL_TIME</td>\n      <td>USD</td>\n      <td>BASE_SALARY</td>\n      <td>1</td>\n      <td>[0.030233672, 0.14783004, -0.8847311, 0.163758...</td>\n    </tr>\n    <tr>\n      <th>195</th>\n      <td>3757453047</td>\n      <td>18583501.0</td>\n      <td>Senior/Staff Backend Engineer @ Siftstack.io</td>\n      <td>SOFTWARE ENGINEER \\nAt Sift (https://www.sifts...</td>\n      <td>NaN</td>\n      <td>NaN</td>\n      <td>NaN</td>\n      <td>None</td>\n      <td>Full-time</td>\n      <td>Los Angeles, CA</td>\n      <td>...</td>\n      <td>Mid-Senior level</td>\n      <td>None</td>\n      <td>1.699040e+12</td>\n      <td>None</td>\n      <td>0</td>\n      <td>FULL_TIME</td>\n      <td>None</td>\n      <td>None</td>\n      <td>1699042973</td>\n      <td>[-0.6543105, -0.22370934, -0.53103113, 0.06223...</td>\n    </tr>\n  </tbody>\n</table>\n<p>5 rows × 29 columns</p>\n</div>"
     },
     "execution_count": 33,
     "metadata": {},
     "output_type": "execute_result"
    }
   ],
   "source": [
    "data.head(5)"
   ],
   "metadata": {
    "collapsed": false,
    "ExecuteTime": {
     "end_time": "2024-05-05T09:20:53.928699Z",
     "start_time": "2024-05-05T09:20:53.891240Z"
    }
   },
   "id": "a1bf6255313c6d45"
  },
  {
   "cell_type": "code",
   "execution_count": 34,
   "outputs": [
    {
     "data": {
      "text/plain": "Index(['job_id', 'company_id', 'title', 'description', 'max_salary',\n       'med_salary', 'min_salary', 'pay_period', 'formatted_work_type',\n       'location', 'applies', 'original_listed_time', 'remote_allowed',\n       'views', 'job_posting_url', 'application_url', 'application_type',\n       'expiry', 'closed_time', 'formatted_experience_level', 'skills_desc',\n       'listed_time', 'posting_domain', 'sponsored', 'work_type', 'currency',\n       'compensation_type', 'scraped', 'embeddings'],\n      dtype='object')"
     },
     "execution_count": 34,
     "metadata": {},
     "output_type": "execute_result"
    }
   ],
   "source": [
    "data.columns"
   ],
   "metadata": {
    "collapsed": false,
    "ExecuteTime": {
     "end_time": "2024-05-05T09:20:56.645410Z",
     "start_time": "2024-05-05T09:20:56.629035Z"
    }
   },
   "id": "beb171e614a0c539"
  },
  {
   "cell_type": "code",
   "execution_count": 35,
   "outputs": [],
   "source": [
    "columns1 = ['job_id','title','description','formatted_work_type','location','remote_allowed','job_posting_url','application_url','formatted_experience_level','sponsored','work_type']"
   ],
   "metadata": {
    "collapsed": false,
    "ExecuteTime": {
     "end_time": "2024-05-05T09:20:58.115491Z",
     "start_time": "2024-05-05T09:20:58.108540Z"
    }
   },
   "id": "773c068d6acb16f5"
  },
  {
   "cell_type": "code",
   "execution_count": 36,
   "outputs": [],
   "source": [
    "data_sub = data[columns1]"
   ],
   "metadata": {
    "collapsed": false,
    "ExecuteTime": {
     "end_time": "2024-05-05T09:20:59.186225Z",
     "start_time": "2024-05-05T09:20:59.180776Z"
    }
   },
   "id": "d281f5b830413e87"
  },
  {
   "cell_type": "code",
   "execution_count": 50,
   "outputs": [],
   "source": [
    "res = data_sub.to_json(orient='records', lines=True)"
   ],
   "metadata": {
    "collapsed": false,
    "ExecuteTime": {
     "end_time": "2024-05-05T09:27:20.209537Z",
     "start_time": "2024-05-05T09:27:20.190005Z"
    }
   },
   "id": "a5db09e836e012d3"
  },
  {
   "cell_type": "code",
   "execution_count": 51,
   "outputs": [],
   "source": [
    "import json\n",
    "# Parse each JSON object and store in a list\n",
    "res = res.strip().split('\\n')\n",
    "json_dicts = []\n",
    "for idx, obj in enumerate(res, start=1):\n",
    "    try:\n",
    "        json_dict = json.loads(obj)\n",
    "        json_dicts.append(json_dict)\n",
    "    except json.JSONDecodeError as e:\n",
    "        print(f\"Error parsing JSON object {idx}: {e}\")\n",
    "        print(f\"Problematic JSON object {idx}: {obj}\")"
   ],
   "metadata": {
    "collapsed": false,
    "ExecuteTime": {
     "end_time": "2024-05-05T09:27:21.430667Z",
     "start_time": "2024-05-05T09:27:21.425327Z"
    }
   },
   "id": "548b2e3bde1c5925"
  },
  {
   "cell_type": "code",
   "execution_count": 53,
   "outputs": [
    {
     "data": {
      "text/plain": "{'job_id': 3757493445,\n 'title': 'Software Engineer',\n 'description': 'A great opportunity to work with one of our leading Clients.\\nSoftware EngineerLocation:- Remote - USADuration :- 12 Months\\nResponsibilities of Software EngineerActively participate in modernization of legacy application in moving application from Mainframe to distributed systems Develop subject matter expertise in File One Data Load by providing analysis/design, code, testing and documentation Work with Cross-Functional teams to program, validate and co-ordinate software releasesProvide production application support in a 24x7 environment. Provide technical direction assistance to development and testing staff.Participate in or conduct code reviews and provide program improvement recommendations. \\nRequirements for Software EngineerDrive architecture decisions in collaboration with software architects, security team, and hardware teamsProvide analysis and coding for complex software assignments.Possess proficient problem solving and diagnostic abilities providing support on production issues.Work with System Engineers and Internal Partners on requirements. Collaborate design review with cross functional groups; develop schedules, specifications, detail designs, and system procedures to enable on time delivery of defect free software systems. Provide resource recommendations for timely completion of projects.Train or mentor other team members by providing technical working knowledge on assignments Interface with both internal as well as external customers. Development of C and Embedded SQL in Linux Env, with MySQL /DB2/Oracle is a must.Application development experience in Python, Java, Scala. C++ is a plus.Strong experience with Microservices, AWS cloud services like Fargate, EC2, NLB’s, VPC, Route 53, S3, Lambda, Glue. Ability to provide solutions to a wide range of technical problems and challenges Demonstrate knowledge of software development methodologies. Experience with Scrum and other Agile processes required.Exceptional interpersonal skills, demonstrating the ability to collaborate and communicate effectively in a team environment Proven track record of exceptional technical, communication, and project leadership skills.',\n 'formatted_work_type': 'Contract',\n 'location': 'United States',\n 'remote_allowed': 1.0,\n 'job_posting_url': 'https://www.linkedin.com/jobs/view/3757493445/?trk=jobs_biz_prem_srch',\n 'application_url': None,\n 'formatted_experience_level': 'Mid-Senior level',\n 'sponsored': 0,\n 'work_type': 'CONTRACT'}"
     },
     "execution_count": 53,
     "metadata": {},
     "output_type": "execute_result"
    }
   ],
   "source": [
    "json_dicts[0]"
   ],
   "metadata": {
    "collapsed": false,
    "ExecuteTime": {
     "end_time": "2024-05-05T09:27:45.484085Z",
     "start_time": "2024-05-05T09:27:45.468156Z"
    }
   },
   "id": "81dafc0b7747baff"
  },
  {
   "cell_type": "code",
   "execution_count": null,
   "outputs": [],
   "source": [],
   "metadata": {
    "collapsed": false
   },
   "id": "7afe8e5b5d1e53c3"
  }
 ],
 "metadata": {
  "kernelspec": {
   "display_name": "Python 3",
   "language": "python",
   "name": "python3"
  },
  "language_info": {
   "codemirror_mode": {
    "name": "ipython",
    "version": 2
   },
   "file_extension": ".py",
   "mimetype": "text/x-python",
   "name": "python",
   "nbconvert_exporter": "python",
   "pygments_lexer": "ipython2",
   "version": "2.7.6"
  }
 },
 "nbformat": 4,
 "nbformat_minor": 5
}
